{
 "cells": [
  {
   "cell_type": "markdown",
   "metadata": {},
   "source": [
    "# Importing Libraries"
   ]
  },
  {
   "cell_type": "code",
   "execution_count": 1,
   "metadata": {},
   "outputs": [],
   "source": [
    "import pandas as pd\n",
    "import numpy as np\n",
    "import matplotlib.pyplot as plt\n",
    "import seaborn as sns\n",
    "plt.rcParams[\"figure.figsize\"] = [18,6]\n",
    "plt.style.use(\"ggplot\")"
   ]
  },
  {
   "cell_type": "markdown",
   "metadata": {},
   "source": [
    "# Task 1"
   ]
  },
  {
   "cell_type": "markdown",
   "metadata": {},
   "source": [
    "# Importing Data"
   ]
  },
  {
   "cell_type": "code",
   "execution_count": 2,
   "metadata": {},
   "outputs": [],
   "source": [
    "df_activities = pd.read_csv(r\"C:\\Users\\jaskeerat singh\\Desktop\\technocolabs internship\\mini task 2\\cardioActivities.csv\", parse_dates =[\"Date\"], index_col =\"Date\")"
   ]
  },
  {
   "cell_type": "code",
   "execution_count": 3,
   "metadata": {},
   "outputs": [
    {
     "data": {
      "text/html": [
       "<div>\n",
       "<style scoped>\n",
       "    .dataframe tbody tr th:only-of-type {\n",
       "        vertical-align: middle;\n",
       "    }\n",
       "\n",
       "    .dataframe tbody tr th {\n",
       "        vertical-align: top;\n",
       "    }\n",
       "\n",
       "    .dataframe thead th {\n",
       "        text-align: right;\n",
       "    }\n",
       "</style>\n",
       "<table border=\"1\" class=\"dataframe\">\n",
       "  <thead>\n",
       "    <tr style=\"text-align: right;\">\n",
       "      <th></th>\n",
       "      <th>Activity Id</th>\n",
       "      <th>Type</th>\n",
       "      <th>Route Name</th>\n",
       "      <th>Distance (km)</th>\n",
       "      <th>Duration</th>\n",
       "      <th>Average Pace</th>\n",
       "      <th>Average Speed (km/h)</th>\n",
       "      <th>Calories Burned</th>\n",
       "      <th>Climb (m)</th>\n",
       "      <th>Average Heart Rate (bpm)</th>\n",
       "      <th>Friend's Tagged</th>\n",
       "      <th>Notes</th>\n",
       "      <th>GPX File</th>\n",
       "    </tr>\n",
       "    <tr>\n",
       "      <th>Date</th>\n",
       "      <th></th>\n",
       "      <th></th>\n",
       "      <th></th>\n",
       "      <th></th>\n",
       "      <th></th>\n",
       "      <th></th>\n",
       "      <th></th>\n",
       "      <th></th>\n",
       "      <th></th>\n",
       "      <th></th>\n",
       "      <th></th>\n",
       "      <th></th>\n",
       "      <th></th>\n",
       "    </tr>\n",
       "  </thead>\n",
       "  <tbody>\n",
       "    <tr>\n",
       "      <th>2012-10-20 08:37:33</th>\n",
       "      <td>e91aba7a-6bc5-418a-98f4-e6b23d80e7e5</td>\n",
       "      <td>Running</td>\n",
       "      <td>NaN</td>\n",
       "      <td>3.18</td>\n",
       "      <td>19:28</td>\n",
       "      <td>6:07</td>\n",
       "      <td>9.80</td>\n",
       "      <td>228.0</td>\n",
       "      <td>18</td>\n",
       "      <td>NaN</td>\n",
       "      <td>NaN</td>\n",
       "      <td>NaN</td>\n",
       "      <td>2012-10-20-083733.gpx</td>\n",
       "    </tr>\n",
       "    <tr>\n",
       "      <th>2013-09-30 18:50:38</th>\n",
       "      <td>f50f24f1-b79e-4bf3-8dfc-6b43d46f385f</td>\n",
       "      <td>Running</td>\n",
       "      <td>NaN</td>\n",
       "      <td>6.45</td>\n",
       "      <td>32:41</td>\n",
       "      <td>5:04</td>\n",
       "      <td>11.84</td>\n",
       "      <td>462.0</td>\n",
       "      <td>34</td>\n",
       "      <td>NaN</td>\n",
       "      <td>NaN</td>\n",
       "      <td>NaN</td>\n",
       "      <td>2013-09-30-185038.gpx</td>\n",
       "    </tr>\n",
       "    <tr>\n",
       "      <th>2015-06-28 17:39:02</th>\n",
       "      <td>bdbd37a8-9c4f-41c4-9e87-1980a096881c</td>\n",
       "      <td>Running</td>\n",
       "      <td>NaN</td>\n",
       "      <td>19.81</td>\n",
       "      <td>1:55:57</td>\n",
       "      <td>5:51</td>\n",
       "      <td>10.25</td>\n",
       "      <td>1360.0</td>\n",
       "      <td>313</td>\n",
       "      <td>133.0</td>\n",
       "      <td>NaN</td>\n",
       "      <td>NaN</td>\n",
       "      <td>2015-06-28-173902.gpx</td>\n",
       "    </tr>\n",
       "  </tbody>\n",
       "</table>\n",
       "</div>"
      ],
      "text/plain": [
       "                                              Activity Id     Type Route Name  \\\n",
       "Date                                                                            \n",
       "2012-10-20 08:37:33  e91aba7a-6bc5-418a-98f4-e6b23d80e7e5  Running        NaN   \n",
       "2013-09-30 18:50:38  f50f24f1-b79e-4bf3-8dfc-6b43d46f385f  Running        NaN   \n",
       "2015-06-28 17:39:02  bdbd37a8-9c4f-41c4-9e87-1980a096881c  Running        NaN   \n",
       "\n",
       "                     Distance (km) Duration Average Pace  \\\n",
       "Date                                                       \n",
       "2012-10-20 08:37:33           3.18    19:28         6:07   \n",
       "2013-09-30 18:50:38           6.45    32:41         5:04   \n",
       "2015-06-28 17:39:02          19.81  1:55:57         5:51   \n",
       "\n",
       "                     Average Speed (km/h)  Calories Burned  Climb (m)  \\\n",
       "Date                                                                    \n",
       "2012-10-20 08:37:33                  9.80            228.0         18   \n",
       "2013-09-30 18:50:38                 11.84            462.0         34   \n",
       "2015-06-28 17:39:02                 10.25           1360.0        313   \n",
       "\n",
       "                     Average Heart Rate (bpm)  Friend's Tagged Notes  \\\n",
       "Date                                                                   \n",
       "2012-10-20 08:37:33                       NaN              NaN   NaN   \n",
       "2013-09-30 18:50:38                       NaN              NaN   NaN   \n",
       "2015-06-28 17:39:02                     133.0              NaN   NaN   \n",
       "\n",
       "                                  GPX File  \n",
       "Date                                        \n",
       "2012-10-20 08:37:33  2012-10-20-083733.gpx  \n",
       "2013-09-30 18:50:38  2013-09-30-185038.gpx  \n",
       "2015-06-28 17:39:02  2015-06-28-173902.gpx  "
      ]
     },
     "execution_count": 3,
     "metadata": {},
     "output_type": "execute_result"
    }
   ],
   "source": [
    "df_activities.sample(3)"
   ]
  },
  {
   "cell_type": "code",
   "execution_count": 4,
   "metadata": {},
   "outputs": [
    {
     "name": "stdout",
     "output_type": "stream",
     "text": [
      "<class 'pandas.core.frame.DataFrame'>\n",
      "DatetimeIndex: 508 entries, 2018-11-11 14:05:12 to 2012-08-22 18:53:54\n",
      "Data columns (total 13 columns):\n",
      " #   Column                    Non-Null Count  Dtype  \n",
      "---  ------                    --------------  -----  \n",
      " 0   Activity Id               508 non-null    object \n",
      " 1   Type                      508 non-null    object \n",
      " 2   Route Name                1 non-null      object \n",
      " 3   Distance (km)             508 non-null    float64\n",
      " 4   Duration                  508 non-null    object \n",
      " 5   Average Pace              508 non-null    object \n",
      " 6   Average Speed (km/h)      508 non-null    float64\n",
      " 7   Calories Burned           508 non-null    float64\n",
      " 8   Climb (m)                 508 non-null    int64  \n",
      " 9   Average Heart Rate (bpm)  294 non-null    float64\n",
      " 10  Friend's Tagged           0 non-null      float64\n",
      " 11  Notes                     231 non-null    object \n",
      " 12  GPX File                  504 non-null    object \n",
      "dtypes: float64(5), int64(1), object(7)\n",
      "memory usage: 55.6+ KB\n"
     ]
    }
   ],
   "source": [
    "df_activities.info()"
   ]
  },
  {
   "cell_type": "markdown",
   "metadata": {},
   "source": [
    "# Exploratory Data Analysis"
   ]
  },
  {
   "cell_type": "code",
   "execution_count": 5,
   "metadata": {
    "scrolled": false
   },
   "outputs": [
    {
     "data": {
      "text/html": [
       "<div>\n",
       "<style scoped>\n",
       "    .dataframe tbody tr th:only-of-type {\n",
       "        vertical-align: middle;\n",
       "    }\n",
       "\n",
       "    .dataframe tbody tr th {\n",
       "        vertical-align: top;\n",
       "    }\n",
       "\n",
       "    .dataframe thead th {\n",
       "        text-align: right;\n",
       "    }\n",
       "</style>\n",
       "<table border=\"1\" class=\"dataframe\">\n",
       "  <thead>\n",
       "    <tr style=\"text-align: right;\">\n",
       "      <th></th>\n",
       "      <th>Activity Id</th>\n",
       "      <th>Type</th>\n",
       "      <th>Route Name</th>\n",
       "      <th>Distance (km)</th>\n",
       "      <th>Duration</th>\n",
       "      <th>Average Pace</th>\n",
       "      <th>Average Speed (km/h)</th>\n",
       "      <th>Calories Burned</th>\n",
       "      <th>Climb (m)</th>\n",
       "      <th>Average Heart Rate (bpm)</th>\n",
       "      <th>Friend's Tagged</th>\n",
       "      <th>Notes</th>\n",
       "      <th>GPX File</th>\n",
       "    </tr>\n",
       "    <tr>\n",
       "      <th>Date</th>\n",
       "      <th></th>\n",
       "      <th></th>\n",
       "      <th></th>\n",
       "      <th></th>\n",
       "      <th></th>\n",
       "      <th></th>\n",
       "      <th></th>\n",
       "      <th></th>\n",
       "      <th></th>\n",
       "      <th></th>\n",
       "      <th></th>\n",
       "      <th></th>\n",
       "      <th></th>\n",
       "    </tr>\n",
       "  </thead>\n",
       "  <tbody>\n",
       "    <tr>\n",
       "      <th>2018-11-11 14:05:12</th>\n",
       "      <td>c9627fed-14ac-47a2-bed3-2a2630c63c15</td>\n",
       "      <td>Running</td>\n",
       "      <td>NaN</td>\n",
       "      <td>10.44</td>\n",
       "      <td>58:40</td>\n",
       "      <td>5:37</td>\n",
       "      <td>10.68</td>\n",
       "      <td>774.0</td>\n",
       "      <td>130</td>\n",
       "      <td>159.0</td>\n",
       "      <td>NaN</td>\n",
       "      <td>NaN</td>\n",
       "      <td>2018-11-11-140512.gpx</td>\n",
       "    </tr>\n",
       "    <tr>\n",
       "      <th>2018-11-09 15:02:35</th>\n",
       "      <td>be65818d-a801-4847-a43b-2acdf4dc70e7</td>\n",
       "      <td>Running</td>\n",
       "      <td>NaN</td>\n",
       "      <td>12.84</td>\n",
       "      <td>1:14:12</td>\n",
       "      <td>5:47</td>\n",
       "      <td>10.39</td>\n",
       "      <td>954.0</td>\n",
       "      <td>168</td>\n",
       "      <td>159.0</td>\n",
       "      <td>NaN</td>\n",
       "      <td>NaN</td>\n",
       "      <td>2018-11-09-150235.gpx</td>\n",
       "    </tr>\n",
       "    <tr>\n",
       "      <th>2018-11-04 16:05:00</th>\n",
       "      <td>c09b2f92-f855-497c-b624-c196b3ef036c</td>\n",
       "      <td>Running</td>\n",
       "      <td>NaN</td>\n",
       "      <td>13.01</td>\n",
       "      <td>1:15:16</td>\n",
       "      <td>5:47</td>\n",
       "      <td>10.37</td>\n",
       "      <td>967.0</td>\n",
       "      <td>171</td>\n",
       "      <td>155.0</td>\n",
       "      <td>NaN</td>\n",
       "      <td>NaN</td>\n",
       "      <td>2018-11-04-160500.gpx</td>\n",
       "    </tr>\n",
       "    <tr>\n",
       "      <th>2018-11-01 14:03:58</th>\n",
       "      <td>bc9b612d-3499-43ff-b82a-9b17b71b8a36</td>\n",
       "      <td>Running</td>\n",
       "      <td>NaN</td>\n",
       "      <td>12.98</td>\n",
       "      <td>1:14:25</td>\n",
       "      <td>5:44</td>\n",
       "      <td>10.47</td>\n",
       "      <td>960.0</td>\n",
       "      <td>169</td>\n",
       "      <td>158.0</td>\n",
       "      <td>NaN</td>\n",
       "      <td>NaN</td>\n",
       "      <td>2018-11-01-140358.gpx</td>\n",
       "    </tr>\n",
       "    <tr>\n",
       "      <th>2018-10-27 17:01:36</th>\n",
       "      <td>972567b2-1b0e-437c-9e82-fef8078d6438</td>\n",
       "      <td>Running</td>\n",
       "      <td>NaN</td>\n",
       "      <td>13.02</td>\n",
       "      <td>1:12:50</td>\n",
       "      <td>5:36</td>\n",
       "      <td>10.73</td>\n",
       "      <td>967.0</td>\n",
       "      <td>170</td>\n",
       "      <td>154.0</td>\n",
       "      <td>NaN</td>\n",
       "      <td>NaN</td>\n",
       "      <td>2018-10-27-170136.gpx</td>\n",
       "    </tr>\n",
       "  </tbody>\n",
       "</table>\n",
       "</div>"
      ],
      "text/plain": [
       "                                              Activity Id     Type Route Name  \\\n",
       "Date                                                                            \n",
       "2018-11-11 14:05:12  c9627fed-14ac-47a2-bed3-2a2630c63c15  Running        NaN   \n",
       "2018-11-09 15:02:35  be65818d-a801-4847-a43b-2acdf4dc70e7  Running        NaN   \n",
       "2018-11-04 16:05:00  c09b2f92-f855-497c-b624-c196b3ef036c  Running        NaN   \n",
       "2018-11-01 14:03:58  bc9b612d-3499-43ff-b82a-9b17b71b8a36  Running        NaN   \n",
       "2018-10-27 17:01:36  972567b2-1b0e-437c-9e82-fef8078d6438  Running        NaN   \n",
       "\n",
       "                     Distance (km) Duration Average Pace  \\\n",
       "Date                                                       \n",
       "2018-11-11 14:05:12          10.44    58:40         5:37   \n",
       "2018-11-09 15:02:35          12.84  1:14:12         5:47   \n",
       "2018-11-04 16:05:00          13.01  1:15:16         5:47   \n",
       "2018-11-01 14:03:58          12.98  1:14:25         5:44   \n",
       "2018-10-27 17:01:36          13.02  1:12:50         5:36   \n",
       "\n",
       "                     Average Speed (km/h)  Calories Burned  Climb (m)  \\\n",
       "Date                                                                    \n",
       "2018-11-11 14:05:12                 10.68            774.0        130   \n",
       "2018-11-09 15:02:35                 10.39            954.0        168   \n",
       "2018-11-04 16:05:00                 10.37            967.0        171   \n",
       "2018-11-01 14:03:58                 10.47            960.0        169   \n",
       "2018-10-27 17:01:36                 10.73            967.0        170   \n",
       "\n",
       "                     Average Heart Rate (bpm)  Friend's Tagged Notes  \\\n",
       "Date                                                                   \n",
       "2018-11-11 14:05:12                     159.0              NaN   NaN   \n",
       "2018-11-09 15:02:35                     159.0              NaN   NaN   \n",
       "2018-11-04 16:05:00                     155.0              NaN   NaN   \n",
       "2018-11-01 14:03:58                     158.0              NaN   NaN   \n",
       "2018-10-27 17:01:36                     154.0              NaN   NaN   \n",
       "\n",
       "                                  GPX File  \n",
       "Date                                        \n",
       "2018-11-11 14:05:12  2018-11-11-140512.gpx  \n",
       "2018-11-09 15:02:35  2018-11-09-150235.gpx  \n",
       "2018-11-04 16:05:00  2018-11-04-160500.gpx  \n",
       "2018-11-01 14:03:58  2018-11-01-140358.gpx  \n",
       "2018-10-27 17:01:36  2018-10-27-170136.gpx  "
      ]
     },
     "execution_count": 5,
     "metadata": {},
     "output_type": "execute_result"
    }
   ],
   "source": [
    "df_activities.head()"
   ]
  },
  {
   "cell_type": "code",
   "execution_count": 6,
   "metadata": {},
   "outputs": [
    {
     "data": {
      "text/html": [
       "<div>\n",
       "<style scoped>\n",
       "    .dataframe tbody tr th:only-of-type {\n",
       "        vertical-align: middle;\n",
       "    }\n",
       "\n",
       "    .dataframe tbody tr th {\n",
       "        vertical-align: top;\n",
       "    }\n",
       "\n",
       "    .dataframe thead th {\n",
       "        text-align: right;\n",
       "    }\n",
       "</style>\n",
       "<table border=\"1\" class=\"dataframe\">\n",
       "  <thead>\n",
       "    <tr style=\"text-align: right;\">\n",
       "      <th></th>\n",
       "      <th>Activity Id</th>\n",
       "      <th>Type</th>\n",
       "      <th>Route Name</th>\n",
       "      <th>Distance (km)</th>\n",
       "      <th>Duration</th>\n",
       "      <th>Average Pace</th>\n",
       "      <th>Average Speed (km/h)</th>\n",
       "      <th>Calories Burned</th>\n",
       "      <th>Climb (m)</th>\n",
       "      <th>Average Heart Rate (bpm)</th>\n",
       "      <th>Friend's Tagged</th>\n",
       "      <th>Notes</th>\n",
       "      <th>GPX File</th>\n",
       "    </tr>\n",
       "    <tr>\n",
       "      <th>Date</th>\n",
       "      <th></th>\n",
       "      <th></th>\n",
       "      <th></th>\n",
       "      <th></th>\n",
       "      <th></th>\n",
       "      <th></th>\n",
       "      <th></th>\n",
       "      <th></th>\n",
       "      <th></th>\n",
       "      <th></th>\n",
       "      <th></th>\n",
       "      <th></th>\n",
       "      <th></th>\n",
       "    </tr>\n",
       "  </thead>\n",
       "  <tbody>\n",
       "    <tr>\n",
       "      <th>2012-08-28 07:06:57</th>\n",
       "      <td>f5218490-a372-44c8-bb20-de3b91984cbe</td>\n",
       "      <td>Walking</td>\n",
       "      <td>NaN</td>\n",
       "      <td>1.57</td>\n",
       "      <td>13:39</td>\n",
       "      <td>8:41</td>\n",
       "      <td>6.91</td>\n",
       "      <td>926743.0</td>\n",
       "      <td>7</td>\n",
       "      <td>NaN</td>\n",
       "      <td>NaN</td>\n",
       "      <td>NaN</td>\n",
       "      <td>2012-08-28-070657.gpx</td>\n",
       "    </tr>\n",
       "    <tr>\n",
       "      <th>2012-08-24 12:59:42</th>\n",
       "      <td>018f66a7-da5e-4985-a8fe-725a33317c87</td>\n",
       "      <td>Walking</td>\n",
       "      <td>NaN</td>\n",
       "      <td>1.48</td>\n",
       "      <td>17:56</td>\n",
       "      <td>12:09</td>\n",
       "      <td>4.94</td>\n",
       "      <td>942192.0</td>\n",
       "      <td>12</td>\n",
       "      <td>NaN</td>\n",
       "      <td>NaN</td>\n",
       "      <td>NaN</td>\n",
       "      <td>2012-08-24-125942.gpx</td>\n",
       "    </tr>\n",
       "    <tr>\n",
       "      <th>2012-08-24 10:12:16</th>\n",
       "      <td>7acec95a-d63d-435d-837c-7befb352f500</td>\n",
       "      <td>Walking</td>\n",
       "      <td>NaN</td>\n",
       "      <td>1.49</td>\n",
       "      <td>13:43</td>\n",
       "      <td>9:14</td>\n",
       "      <td>6.49</td>\n",
       "      <td>924486.0</td>\n",
       "      <td>9</td>\n",
       "      <td>NaN</td>\n",
       "      <td>NaN</td>\n",
       "      <td>NaN</td>\n",
       "      <td>2012-08-24-101216.gpx</td>\n",
       "    </tr>\n",
       "    <tr>\n",
       "      <th>2012-08-24 08:13:12</th>\n",
       "      <td>f790bdb2-b921-4018-bd39-d59d870c5847</td>\n",
       "      <td>Running</td>\n",
       "      <td>NaN</td>\n",
       "      <td>3.15</td>\n",
       "      <td>16:00</td>\n",
       "      <td>5:05</td>\n",
       "      <td>11.82</td>\n",
       "      <td>2288868.0</td>\n",
       "      <td>17</td>\n",
       "      <td>NaN</td>\n",
       "      <td>NaN</td>\n",
       "      <td>NaN</td>\n",
       "      <td>2012-08-24-081312.gpx</td>\n",
       "    </tr>\n",
       "    <tr>\n",
       "      <th>2012-08-22 18:53:54</th>\n",
       "      <td>706d4d6b-767d-40aa-81c9-e5e85a102051</td>\n",
       "      <td>Running</td>\n",
       "      <td>NaN</td>\n",
       "      <td>5.69</td>\n",
       "      <td>31:08</td>\n",
       "      <td>5:29</td>\n",
       "      <td>10.95</td>\n",
       "      <td>4072685.0</td>\n",
       "      <td>32</td>\n",
       "      <td>NaN</td>\n",
       "      <td>NaN</td>\n",
       "      <td>NaN</td>\n",
       "      <td>2012-08-22-185354.gpx</td>\n",
       "    </tr>\n",
       "  </tbody>\n",
       "</table>\n",
       "</div>"
      ],
      "text/plain": [
       "                                              Activity Id     Type Route Name  \\\n",
       "Date                                                                            \n",
       "2012-08-28 07:06:57  f5218490-a372-44c8-bb20-de3b91984cbe  Walking        NaN   \n",
       "2012-08-24 12:59:42  018f66a7-da5e-4985-a8fe-725a33317c87  Walking        NaN   \n",
       "2012-08-24 10:12:16  7acec95a-d63d-435d-837c-7befb352f500  Walking        NaN   \n",
       "2012-08-24 08:13:12  f790bdb2-b921-4018-bd39-d59d870c5847  Running        NaN   \n",
       "2012-08-22 18:53:54  706d4d6b-767d-40aa-81c9-e5e85a102051  Running        NaN   \n",
       "\n",
       "                     Distance (km) Duration Average Pace  \\\n",
       "Date                                                       \n",
       "2012-08-28 07:06:57           1.57    13:39         8:41   \n",
       "2012-08-24 12:59:42           1.48    17:56        12:09   \n",
       "2012-08-24 10:12:16           1.49    13:43         9:14   \n",
       "2012-08-24 08:13:12           3.15    16:00         5:05   \n",
       "2012-08-22 18:53:54           5.69    31:08         5:29   \n",
       "\n",
       "                     Average Speed (km/h)  Calories Burned  Climb (m)  \\\n",
       "Date                                                                    \n",
       "2012-08-28 07:06:57                  6.91         926743.0          7   \n",
       "2012-08-24 12:59:42                  4.94         942192.0         12   \n",
       "2012-08-24 10:12:16                  6.49         924486.0          9   \n",
       "2012-08-24 08:13:12                 11.82        2288868.0         17   \n",
       "2012-08-22 18:53:54                 10.95        4072685.0         32   \n",
       "\n",
       "                     Average Heart Rate (bpm)  Friend's Tagged Notes  \\\n",
       "Date                                                                   \n",
       "2012-08-28 07:06:57                       NaN              NaN   NaN   \n",
       "2012-08-24 12:59:42                       NaN              NaN   NaN   \n",
       "2012-08-24 10:12:16                       NaN              NaN   NaN   \n",
       "2012-08-24 08:13:12                       NaN              NaN   NaN   \n",
       "2012-08-22 18:53:54                       NaN              NaN   NaN   \n",
       "\n",
       "                                  GPX File  \n",
       "Date                                        \n",
       "2012-08-28 07:06:57  2012-08-28-070657.gpx  \n",
       "2012-08-24 12:59:42  2012-08-24-125942.gpx  \n",
       "2012-08-24 10:12:16  2012-08-24-101216.gpx  \n",
       "2012-08-24 08:13:12  2012-08-24-081312.gpx  \n",
       "2012-08-22 18:53:54  2012-08-22-185354.gpx  "
      ]
     },
     "execution_count": 6,
     "metadata": {},
     "output_type": "execute_result"
    }
   ],
   "source": [
    "df_activities.tail()"
   ]
  },
  {
   "cell_type": "code",
   "execution_count": 7,
   "metadata": {},
   "outputs": [
    {
     "data": {
      "text/plain": [
       "DatetimeIndex(['2018-11-11 14:05:12', '2018-11-09 15:02:35',\n",
       "               '2018-11-04 16:05:00', '2018-11-01 14:03:58',\n",
       "               '2018-10-27 17:01:36', '2018-10-19 17:52:32',\n",
       "               '2018-10-14 17:28:56', '2018-10-12 17:41:58',\n",
       "               '2018-10-06 16:45:02', '2018-09-30 16:52:34',\n",
       "               ...\n",
       "               '2012-09-02 08:41:31', '2012-08-30 07:10:21',\n",
       "               '2012-08-29 18:19:26', '2012-08-29 08:21:43',\n",
       "               '2012-08-28 19:43:52', '2012-08-28 07:06:57',\n",
       "               '2012-08-24 12:59:42', '2012-08-24 10:12:16',\n",
       "               '2012-08-24 08:13:12', '2012-08-22 18:53:54'],\n",
       "              dtype='datetime64[ns]', name='Date', length=508, freq=None)"
      ]
     },
     "execution_count": 7,
     "metadata": {},
     "output_type": "execute_result"
    }
   ],
   "source": [
    "df_activities.index"
   ]
  },
  {
   "cell_type": "code",
   "execution_count": 8,
   "metadata": {},
   "outputs": [
    {
     "data": {
      "text/plain": [
       "(508, 13)"
      ]
     },
     "execution_count": 8,
     "metadata": {},
     "output_type": "execute_result"
    }
   ],
   "source": [
    "df_activities.shape"
   ]
  },
  {
   "cell_type": "code",
   "execution_count": 9,
   "metadata": {},
   "outputs": [
    {
     "data": {
      "text/plain": [
       "Index(['Activity Id', 'Type', 'Route Name', 'Distance (km)', 'Duration',\n",
       "       'Average Pace', 'Average Speed (km/h)', 'Calories Burned', 'Climb (m)',\n",
       "       'Average Heart Rate (bpm)', 'Friend's Tagged', 'Notes', 'GPX File'],\n",
       "      dtype='object')"
      ]
     },
     "execution_count": 9,
     "metadata": {},
     "output_type": "execute_result"
    }
   ],
   "source": [
    "df_activities.columns"
   ]
  },
  {
   "cell_type": "code",
   "execution_count": 10,
   "metadata": {},
   "outputs": [
    {
     "data": {
      "text/plain": [
       "Activity Id                  object\n",
       "Type                         object\n",
       "Route Name                   object\n",
       "Distance (km)               float64\n",
       "Duration                     object\n",
       "Average Pace                 object\n",
       "Average Speed (km/h)        float64\n",
       "Calories Burned             float64\n",
       "Climb (m)                     int64\n",
       "Average Heart Rate (bpm)    float64\n",
       "Friend's Tagged             float64\n",
       "Notes                        object\n",
       "GPX File                     object\n",
       "dtype: object"
      ]
     },
     "execution_count": 10,
     "metadata": {},
     "output_type": "execute_result"
    }
   ],
   "source": [
    "df_activities.dtypes"
   ]
  },
  {
   "cell_type": "code",
   "execution_count": 11,
   "metadata": {},
   "outputs": [
    {
     "data": {
      "text/plain": [
       "Activity Id                 508\n",
       "Type                          4\n",
       "Route Name                    1\n",
       "Distance (km)               363\n",
       "Duration                    458\n",
       "Average Pace                146\n",
       "Average Speed (km/h)        271\n",
       "Calories Burned             406\n",
       "Climb (m)                   218\n",
       "Average Heart Rate (bpm)     49\n",
       "Friend's Tagged               0\n",
       "Notes                         7\n",
       "GPX File                    504\n",
       "dtype: int64"
      ]
     },
     "execution_count": 11,
     "metadata": {},
     "output_type": "execute_result"
    }
   ],
   "source": [
    "df_activities.nunique()"
   ]
  },
  {
   "cell_type": "code",
   "execution_count": 12,
   "metadata": {},
   "outputs": [
    {
     "name": "stdout",
     "output_type": "stream",
     "text": [
      "<class 'pandas.core.frame.DataFrame'>\n",
      "DatetimeIndex: 508 entries, 2018-11-11 14:05:12 to 2012-08-22 18:53:54\n",
      "Data columns (total 13 columns):\n",
      " #   Column                    Non-Null Count  Dtype  \n",
      "---  ------                    --------------  -----  \n",
      " 0   Activity Id               508 non-null    object \n",
      " 1   Type                      508 non-null    object \n",
      " 2   Route Name                1 non-null      object \n",
      " 3   Distance (km)             508 non-null    float64\n",
      " 4   Duration                  508 non-null    object \n",
      " 5   Average Pace              508 non-null    object \n",
      " 6   Average Speed (km/h)      508 non-null    float64\n",
      " 7   Calories Burned           508 non-null    float64\n",
      " 8   Climb (m)                 508 non-null    int64  \n",
      " 9   Average Heart Rate (bpm)  294 non-null    float64\n",
      " 10  Friend's Tagged           0 non-null      float64\n",
      " 11  Notes                     231 non-null    object \n",
      " 12  GPX File                  504 non-null    object \n",
      "dtypes: float64(5), int64(1), object(7)\n",
      "memory usage: 55.6+ KB\n"
     ]
    }
   ],
   "source": [
    "df_activities.info()"
   ]
  },
  {
   "cell_type": "code",
   "execution_count": 13,
   "metadata": {},
   "outputs": [
    {
     "data": {
      "text/html": [
       "<div>\n",
       "<style scoped>\n",
       "    .dataframe tbody tr th:only-of-type {\n",
       "        vertical-align: middle;\n",
       "    }\n",
       "\n",
       "    .dataframe tbody tr th {\n",
       "        vertical-align: top;\n",
       "    }\n",
       "\n",
       "    .dataframe thead th {\n",
       "        text-align: right;\n",
       "    }\n",
       "</style>\n",
       "<table border=\"1\" class=\"dataframe\">\n",
       "  <thead>\n",
       "    <tr style=\"text-align: right;\">\n",
       "      <th></th>\n",
       "      <th>Distance (km)</th>\n",
       "      <th>Average Speed (km/h)</th>\n",
       "      <th>Calories Burned</th>\n",
       "      <th>Climb (m)</th>\n",
       "      <th>Average Heart Rate (bpm)</th>\n",
       "      <th>Friend's Tagged</th>\n",
       "    </tr>\n",
       "  </thead>\n",
       "  <tbody>\n",
       "    <tr>\n",
       "      <th>count</th>\n",
       "      <td>508.000000</td>\n",
       "      <td>508.000000</td>\n",
       "      <td>5.080000e+02</td>\n",
       "      <td>508.00000</td>\n",
       "      <td>294.000000</td>\n",
       "      <td>0.0</td>\n",
       "    </tr>\n",
       "    <tr>\n",
       "      <th>mean</th>\n",
       "      <td>11.757835</td>\n",
       "      <td>11.341654</td>\n",
       "      <td>1.878197e+04</td>\n",
       "      <td>128.00000</td>\n",
       "      <td>143.530612</td>\n",
       "      <td>NaN</td>\n",
       "    </tr>\n",
       "    <tr>\n",
       "      <th>std</th>\n",
       "      <td>6.209219</td>\n",
       "      <td>2.510516</td>\n",
       "      <td>2.186930e+05</td>\n",
       "      <td>108.52604</td>\n",
       "      <td>10.583848</td>\n",
       "      <td>NaN</td>\n",
       "    </tr>\n",
       "    <tr>\n",
       "      <th>min</th>\n",
       "      <td>0.760000</td>\n",
       "      <td>1.040000</td>\n",
       "      <td>4.000000e+01</td>\n",
       "      <td>0.00000</td>\n",
       "      <td>77.000000</td>\n",
       "      <td>NaN</td>\n",
       "    </tr>\n",
       "    <tr>\n",
       "      <th>25%</th>\n",
       "      <td>7.015000</td>\n",
       "      <td>10.470000</td>\n",
       "      <td>4.917500e+02</td>\n",
       "      <td>53.00000</td>\n",
       "      <td>140.000000</td>\n",
       "      <td>NaN</td>\n",
       "    </tr>\n",
       "    <tr>\n",
       "      <th>50%</th>\n",
       "      <td>11.460000</td>\n",
       "      <td>11.030000</td>\n",
       "      <td>7.280884e+02</td>\n",
       "      <td>92.00000</td>\n",
       "      <td>144.000000</td>\n",
       "      <td>NaN</td>\n",
       "    </tr>\n",
       "    <tr>\n",
       "      <th>75%</th>\n",
       "      <td>13.642500</td>\n",
       "      <td>11.642500</td>\n",
       "      <td>9.212500e+02</td>\n",
       "      <td>172.25000</td>\n",
       "      <td>149.000000</td>\n",
       "      <td>NaN</td>\n",
       "    </tr>\n",
       "    <tr>\n",
       "      <th>max</th>\n",
       "      <td>49.180000</td>\n",
       "      <td>24.330000</td>\n",
       "      <td>4.072685e+06</td>\n",
       "      <td>982.00000</td>\n",
       "      <td>172.000000</td>\n",
       "      <td>NaN</td>\n",
       "    </tr>\n",
       "  </tbody>\n",
       "</table>\n",
       "</div>"
      ],
      "text/plain": [
       "       Distance (km)  Average Speed (km/h)  Calories Burned  Climb (m)  \\\n",
       "count     508.000000            508.000000     5.080000e+02  508.00000   \n",
       "mean       11.757835             11.341654     1.878197e+04  128.00000   \n",
       "std         6.209219              2.510516     2.186930e+05  108.52604   \n",
       "min         0.760000              1.040000     4.000000e+01    0.00000   \n",
       "25%         7.015000             10.470000     4.917500e+02   53.00000   \n",
       "50%        11.460000             11.030000     7.280884e+02   92.00000   \n",
       "75%        13.642500             11.642500     9.212500e+02  172.25000   \n",
       "max        49.180000             24.330000     4.072685e+06  982.00000   \n",
       "\n",
       "       Average Heart Rate (bpm)  Friend's Tagged  \n",
       "count                294.000000              0.0  \n",
       "mean                 143.530612              NaN  \n",
       "std                   10.583848              NaN  \n",
       "min                   77.000000              NaN  \n",
       "25%                  140.000000              NaN  \n",
       "50%                  144.000000              NaN  \n",
       "75%                  149.000000              NaN  \n",
       "max                  172.000000              NaN  "
      ]
     },
     "execution_count": 13,
     "metadata": {},
     "output_type": "execute_result"
    }
   ],
   "source": [
    "df_activities.describe()"
   ]
  },
  {
   "cell_type": "markdown",
   "metadata": {},
   "source": [
    "# Task 2"
   ]
  },
  {
   "cell_type": "code",
   "execution_count": 14,
   "metadata": {},
   "outputs": [],
   "source": [
    "df_activities.drop(\"Route Name\", inplace = True, axis = 1)\n",
    "df_activities.drop(\"Friend's Tagged\", inplace = True, axis = 1)\n",
    "df_activities.drop(\"Notes\", inplace = True, axis = 1)"
   ]
  },
  {
   "cell_type": "code",
   "execution_count": 15,
   "metadata": {},
   "outputs": [
    {
     "data": {
      "text/plain": [
       "array(['Running', 'Cycling', 'Other', 'Walking'], dtype=object)"
      ]
     },
     "execution_count": 15,
     "metadata": {},
     "output_type": "execute_result"
    }
   ],
   "source": [
    "df_activities[\"Type\"].unique()"
   ]
  },
  {
   "cell_type": "code",
   "execution_count": 16,
   "metadata": {},
   "outputs": [],
   "source": [
    "df_activities[\"Type\"] = df_activities[\"Type\"].str.replace(\"Other\",\"Unicycling\")"
   ]
  },
  {
   "cell_type": "code",
   "execution_count": 17,
   "metadata": {},
   "outputs": [
    {
     "data": {
      "text/plain": [
       "array(['Running', 'Cycling', 'Unicycling', 'Walking'], dtype=object)"
      ]
     },
     "execution_count": 17,
     "metadata": {},
     "output_type": "execute_result"
    }
   ],
   "source": [
    "df_activities[\"Type\"].unique()"
   ]
  },
  {
   "cell_type": "code",
   "execution_count": 18,
   "metadata": {},
   "outputs": [
    {
     "data": {
      "text/plain": [
       "Activity Id                   0\n",
       "Type                          0\n",
       "Distance (km)                 0\n",
       "Duration                      0\n",
       "Average Pace                  0\n",
       "Average Speed (km/h)          0\n",
       "Calories Burned               0\n",
       "Climb (m)                     0\n",
       "Average Heart Rate (bpm)    214\n",
       "GPX File                      4\n",
       "dtype: int64"
      ]
     },
     "execution_count": 18,
     "metadata": {},
     "output_type": "execute_result"
    }
   ],
   "source": [
    "df_activities.isnull().sum()"
   ]
  },
  {
   "cell_type": "markdown",
   "metadata": {},
   "source": [
    "# Task 3"
   ]
  },
  {
   "cell_type": "code",
   "execution_count": 19,
   "metadata": {},
   "outputs": [
    {
     "data": {
      "text/plain": [
       "124.4"
      ]
     },
     "execution_count": 19,
     "metadata": {},
     "output_type": "execute_result"
    }
   ],
   "source": [
    "df = df_activities[df_activities[\"Type\"] == \"Cycling\"]\n",
    "avg_hr_cycle = df[\"Average Heart Rate (bpm)\"].mean()\n",
    "avg_hr_cycle"
   ]
  },
  {
   "cell_type": "code",
   "execution_count": 20,
   "metadata": {},
   "outputs": [
    {
     "data": {
      "text/html": [
       "<div>\n",
       "<style scoped>\n",
       "    .dataframe tbody tr th:only-of-type {\n",
       "        vertical-align: middle;\n",
       "    }\n",
       "\n",
       "    .dataframe tbody tr th {\n",
       "        vertical-align: top;\n",
       "    }\n",
       "\n",
       "    .dataframe thead th {\n",
       "        text-align: right;\n",
       "    }\n",
       "</style>\n",
       "<table border=\"1\" class=\"dataframe\">\n",
       "  <thead>\n",
       "    <tr style=\"text-align: right;\">\n",
       "      <th></th>\n",
       "      <th>Activity Id</th>\n",
       "      <th>Type</th>\n",
       "      <th>Distance (km)</th>\n",
       "      <th>Duration</th>\n",
       "      <th>Average Pace</th>\n",
       "      <th>Average Speed (km/h)</th>\n",
       "      <th>Calories Burned</th>\n",
       "      <th>Climb (m)</th>\n",
       "      <th>Average Heart Rate (bpm)</th>\n",
       "      <th>GPX File</th>\n",
       "    </tr>\n",
       "    <tr>\n",
       "      <th>Date</th>\n",
       "      <th></th>\n",
       "      <th></th>\n",
       "      <th></th>\n",
       "      <th></th>\n",
       "      <th></th>\n",
       "      <th></th>\n",
       "      <th></th>\n",
       "      <th></th>\n",
       "      <th></th>\n",
       "      <th></th>\n",
       "    </tr>\n",
       "  </thead>\n",
       "  <tbody>\n",
       "    <tr>\n",
       "      <th>2015-05-01 18:05:38</th>\n",
       "      <td>7bd07c52-14d5-4c06-98aa-1b84e0a14127</td>\n",
       "      <td>Cycling</td>\n",
       "      <td>11.41</td>\n",
       "      <td>42:39</td>\n",
       "      <td>3:44</td>\n",
       "      <td>16.06</td>\n",
       "      <td>282.0</td>\n",
       "      <td>132</td>\n",
       "      <td>125.0</td>\n",
       "      <td>2015-05-01-180538.gpx</td>\n",
       "    </tr>\n",
       "    <tr>\n",
       "      <th>2014-08-29 18:56:02</th>\n",
       "      <td>800c94a1-551e-408e-8282-ae9bb8d3ddd3</td>\n",
       "      <td>Cycling</td>\n",
       "      <td>20.70</td>\n",
       "      <td>1:00:37</td>\n",
       "      <td>2:56</td>\n",
       "      <td>20.49</td>\n",
       "      <td>519.0</td>\n",
       "      <td>113</td>\n",
       "      <td>NaN</td>\n",
       "      <td>2014-08-29-185602.gpx</td>\n",
       "    </tr>\n",
       "    <tr>\n",
       "      <th>2013-05-09 17:24:19</th>\n",
       "      <td>b22dfd09-a8df-4796-86e4-e4d00ca151f6</td>\n",
       "      <td>Cycling</td>\n",
       "      <td>15.47</td>\n",
       "      <td>38:08</td>\n",
       "      <td>2:28</td>\n",
       "      <td>24.33</td>\n",
       "      <td>339.0</td>\n",
       "      <td>88</td>\n",
       "      <td>NaN</td>\n",
       "      <td>2013-05-09-172419.gpx</td>\n",
       "    </tr>\n",
       "    <tr>\n",
       "      <th>2013-05-05 14:26:37</th>\n",
       "      <td>4370c545-ff6f-4829-967d-b0dbd0b54798</td>\n",
       "      <td>Cycling</td>\n",
       "      <td>20.30</td>\n",
       "      <td>1:06:29</td>\n",
       "      <td>3:17</td>\n",
       "      <td>18.31</td>\n",
       "      <td>498.0</td>\n",
       "      <td>97</td>\n",
       "      <td>NaN</td>\n",
       "      <td>2013-05-05-142637.gpx</td>\n",
       "    </tr>\n",
       "    <tr>\n",
       "      <th>2013-04-28 17:26:52</th>\n",
       "      <td>ea228333-1dc2-4798-90e6-d4b7aa93545c</td>\n",
       "      <td>Cycling</td>\n",
       "      <td>13.87</td>\n",
       "      <td>48:27</td>\n",
       "      <td>3:30</td>\n",
       "      <td>17.17</td>\n",
       "      <td>341.0</td>\n",
       "      <td>133</td>\n",
       "      <td>NaN</td>\n",
       "      <td>2013-04-28-172652.gpx</td>\n",
       "    </tr>\n",
       "  </tbody>\n",
       "</table>\n",
       "</div>"
      ],
      "text/plain": [
       "                                              Activity Id     Type  \\\n",
       "Date                                                                 \n",
       "2015-05-01 18:05:38  7bd07c52-14d5-4c06-98aa-1b84e0a14127  Cycling   \n",
       "2014-08-29 18:56:02  800c94a1-551e-408e-8282-ae9bb8d3ddd3  Cycling   \n",
       "2013-05-09 17:24:19  b22dfd09-a8df-4796-86e4-e4d00ca151f6  Cycling   \n",
       "2013-05-05 14:26:37  4370c545-ff6f-4829-967d-b0dbd0b54798  Cycling   \n",
       "2013-04-28 17:26:52  ea228333-1dc2-4798-90e6-d4b7aa93545c  Cycling   \n",
       "\n",
       "                     Distance (km) Duration Average Pace  \\\n",
       "Date                                                       \n",
       "2015-05-01 18:05:38          11.41    42:39         3:44   \n",
       "2014-08-29 18:56:02          20.70  1:00:37         2:56   \n",
       "2013-05-09 17:24:19          15.47    38:08         2:28   \n",
       "2013-05-05 14:26:37          20.30  1:06:29         3:17   \n",
       "2013-04-28 17:26:52          13.87    48:27         3:30   \n",
       "\n",
       "                     Average Speed (km/h)  Calories Burned  Climb (m)  \\\n",
       "Date                                                                    \n",
       "2015-05-01 18:05:38                 16.06            282.0        132   \n",
       "2014-08-29 18:56:02                 20.49            519.0        113   \n",
       "2013-05-09 17:24:19                 24.33            339.0         88   \n",
       "2013-05-05 14:26:37                 18.31            498.0         97   \n",
       "2013-04-28 17:26:52                 17.17            341.0        133   \n",
       "\n",
       "                     Average Heart Rate (bpm)               GPX File  \n",
       "Date                                                                  \n",
       "2015-05-01 18:05:38                     125.0  2015-05-01-180538.gpx  \n",
       "2014-08-29 18:56:02                       NaN  2014-08-29-185602.gpx  \n",
       "2013-05-09 17:24:19                       NaN  2013-05-09-172419.gpx  \n",
       "2013-05-05 14:26:37                       NaN  2013-05-05-142637.gpx  \n",
       "2013-04-28 17:26:52                       NaN  2013-04-28-172652.gpx  "
      ]
     },
     "execution_count": 20,
     "metadata": {},
     "output_type": "execute_result"
    }
   ],
   "source": [
    "df_cycle = df_activities[df_activities[\"Type\"] == \"Cycling\"].copy()\n",
    "df_cycle.tail()"
   ]
  },
  {
   "cell_type": "code",
   "execution_count": 21,
   "metadata": {},
   "outputs": [],
   "source": [
    "df_cycle[\"Average Heart Rate (bpm)\"].fillna(int(avg_hr_cycle), inplace = True)"
   ]
  },
  {
   "cell_type": "code",
   "execution_count": 22,
   "metadata": {},
   "outputs": [
    {
     "data": {
      "text/html": [
       "<div>\n",
       "<style scoped>\n",
       "    .dataframe tbody tr th:only-of-type {\n",
       "        vertical-align: middle;\n",
       "    }\n",
       "\n",
       "    .dataframe tbody tr th {\n",
       "        vertical-align: top;\n",
       "    }\n",
       "\n",
       "    .dataframe thead th {\n",
       "        text-align: right;\n",
       "    }\n",
       "</style>\n",
       "<table border=\"1\" class=\"dataframe\">\n",
       "  <thead>\n",
       "    <tr style=\"text-align: right;\">\n",
       "      <th></th>\n",
       "      <th>Activity Id</th>\n",
       "      <th>Type</th>\n",
       "      <th>Distance (km)</th>\n",
       "      <th>Duration</th>\n",
       "      <th>Average Pace</th>\n",
       "      <th>Average Speed (km/h)</th>\n",
       "      <th>Calories Burned</th>\n",
       "      <th>Climb (m)</th>\n",
       "      <th>Average Heart Rate (bpm)</th>\n",
       "      <th>GPX File</th>\n",
       "    </tr>\n",
       "    <tr>\n",
       "      <th>Date</th>\n",
       "      <th></th>\n",
       "      <th></th>\n",
       "      <th></th>\n",
       "      <th></th>\n",
       "      <th></th>\n",
       "      <th></th>\n",
       "      <th></th>\n",
       "      <th></th>\n",
       "      <th></th>\n",
       "      <th></th>\n",
       "    </tr>\n",
       "  </thead>\n",
       "  <tbody>\n",
       "    <tr>\n",
       "      <th>2015-05-01 18:05:38</th>\n",
       "      <td>7bd07c52-14d5-4c06-98aa-1b84e0a14127</td>\n",
       "      <td>Cycling</td>\n",
       "      <td>11.41</td>\n",
       "      <td>42:39</td>\n",
       "      <td>3:44</td>\n",
       "      <td>16.06</td>\n",
       "      <td>282.0</td>\n",
       "      <td>132</td>\n",
       "      <td>125.0</td>\n",
       "      <td>2015-05-01-180538.gpx</td>\n",
       "    </tr>\n",
       "    <tr>\n",
       "      <th>2014-08-29 18:56:02</th>\n",
       "      <td>800c94a1-551e-408e-8282-ae9bb8d3ddd3</td>\n",
       "      <td>Cycling</td>\n",
       "      <td>20.70</td>\n",
       "      <td>1:00:37</td>\n",
       "      <td>2:56</td>\n",
       "      <td>20.49</td>\n",
       "      <td>519.0</td>\n",
       "      <td>113</td>\n",
       "      <td>124.0</td>\n",
       "      <td>2014-08-29-185602.gpx</td>\n",
       "    </tr>\n",
       "    <tr>\n",
       "      <th>2013-05-09 17:24:19</th>\n",
       "      <td>b22dfd09-a8df-4796-86e4-e4d00ca151f6</td>\n",
       "      <td>Cycling</td>\n",
       "      <td>15.47</td>\n",
       "      <td>38:08</td>\n",
       "      <td>2:28</td>\n",
       "      <td>24.33</td>\n",
       "      <td>339.0</td>\n",
       "      <td>88</td>\n",
       "      <td>124.0</td>\n",
       "      <td>2013-05-09-172419.gpx</td>\n",
       "    </tr>\n",
       "    <tr>\n",
       "      <th>2013-05-05 14:26:37</th>\n",
       "      <td>4370c545-ff6f-4829-967d-b0dbd0b54798</td>\n",
       "      <td>Cycling</td>\n",
       "      <td>20.30</td>\n",
       "      <td>1:06:29</td>\n",
       "      <td>3:17</td>\n",
       "      <td>18.31</td>\n",
       "      <td>498.0</td>\n",
       "      <td>97</td>\n",
       "      <td>124.0</td>\n",
       "      <td>2013-05-05-142637.gpx</td>\n",
       "    </tr>\n",
       "    <tr>\n",
       "      <th>2013-04-28 17:26:52</th>\n",
       "      <td>ea228333-1dc2-4798-90e6-d4b7aa93545c</td>\n",
       "      <td>Cycling</td>\n",
       "      <td>13.87</td>\n",
       "      <td>48:27</td>\n",
       "      <td>3:30</td>\n",
       "      <td>17.17</td>\n",
       "      <td>341.0</td>\n",
       "      <td>133</td>\n",
       "      <td>124.0</td>\n",
       "      <td>2013-04-28-172652.gpx</td>\n",
       "    </tr>\n",
       "  </tbody>\n",
       "</table>\n",
       "</div>"
      ],
      "text/plain": [
       "                                              Activity Id     Type  \\\n",
       "Date                                                                 \n",
       "2015-05-01 18:05:38  7bd07c52-14d5-4c06-98aa-1b84e0a14127  Cycling   \n",
       "2014-08-29 18:56:02  800c94a1-551e-408e-8282-ae9bb8d3ddd3  Cycling   \n",
       "2013-05-09 17:24:19  b22dfd09-a8df-4796-86e4-e4d00ca151f6  Cycling   \n",
       "2013-05-05 14:26:37  4370c545-ff6f-4829-967d-b0dbd0b54798  Cycling   \n",
       "2013-04-28 17:26:52  ea228333-1dc2-4798-90e6-d4b7aa93545c  Cycling   \n",
       "\n",
       "                     Distance (km) Duration Average Pace  \\\n",
       "Date                                                       \n",
       "2015-05-01 18:05:38          11.41    42:39         3:44   \n",
       "2014-08-29 18:56:02          20.70  1:00:37         2:56   \n",
       "2013-05-09 17:24:19          15.47    38:08         2:28   \n",
       "2013-05-05 14:26:37          20.30  1:06:29         3:17   \n",
       "2013-04-28 17:26:52          13.87    48:27         3:30   \n",
       "\n",
       "                     Average Speed (km/h)  Calories Burned  Climb (m)  \\\n",
       "Date                                                                    \n",
       "2015-05-01 18:05:38                 16.06            282.0        132   \n",
       "2014-08-29 18:56:02                 20.49            519.0        113   \n",
       "2013-05-09 17:24:19                 24.33            339.0         88   \n",
       "2013-05-05 14:26:37                 18.31            498.0         97   \n",
       "2013-04-28 17:26:52                 17.17            341.0        133   \n",
       "\n",
       "                     Average Heart Rate (bpm)               GPX File  \n",
       "Date                                                                  \n",
       "2015-05-01 18:05:38                     125.0  2015-05-01-180538.gpx  \n",
       "2014-08-29 18:56:02                     124.0  2014-08-29-185602.gpx  \n",
       "2013-05-09 17:24:19                     124.0  2013-05-09-172419.gpx  \n",
       "2013-05-05 14:26:37                     124.0  2013-05-05-142637.gpx  \n",
       "2013-04-28 17:26:52                     124.0  2013-04-28-172652.gpx  "
      ]
     },
     "execution_count": 22,
     "metadata": {},
     "output_type": "execute_result"
    }
   ],
   "source": [
    "df_cycle.tail()"
   ]
  },
  {
   "cell_type": "code",
   "execution_count": 23,
   "metadata": {},
   "outputs": [
    {
     "data": {
      "text/plain": [
       "Activity Id                 0\n",
       "Type                        0\n",
       "Distance (km)               0\n",
       "Duration                    0\n",
       "Average Pace                0\n",
       "Average Speed (km/h)        0\n",
       "Calories Burned             0\n",
       "Climb (m)                   0\n",
       "Average Heart Rate (bpm)    0\n",
       "GPX File                    0\n",
       "dtype: int64"
      ]
     },
     "execution_count": 23,
     "metadata": {},
     "output_type": "execute_result"
    }
   ],
   "source": [
    "df_cycle.isnull().sum()"
   ]
  },
  {
   "cell_type": "markdown",
   "metadata": {},
   "source": [
    "# Task 4"
   ]
  },
  {
   "cell_type": "code",
   "execution_count": 24,
   "metadata": {},
   "outputs": [],
   "source": [
    "df_run = df_activities[df_activities[\"Type\"] == \"Running\"]\n",
    "df_walk = df_activities[df_activities[\"Type\"] == \"Walking\"]\n",
    "df_cycle = df_activities[df_activities[\"Type\"] == \"Cycling\"]\n",
    "df_run = df_run.sort_index(ascending = False)"
   ]
  },
  {
   "cell_type": "code",
   "execution_count": 25,
   "metadata": {},
   "outputs": [
    {
     "data": {
      "text/html": [
       "<div>\n",
       "<style scoped>\n",
       "    .dataframe tbody tr th:only-of-type {\n",
       "        vertical-align: middle;\n",
       "    }\n",
       "\n",
       "    .dataframe tbody tr th {\n",
       "        vertical-align: top;\n",
       "    }\n",
       "\n",
       "    .dataframe thead th {\n",
       "        text-align: right;\n",
       "    }\n",
       "</style>\n",
       "<table border=\"1\" class=\"dataframe\">\n",
       "  <thead>\n",
       "    <tr style=\"text-align: right;\">\n",
       "      <th></th>\n",
       "      <th>Activity Id</th>\n",
       "      <th>Type</th>\n",
       "      <th>Distance (km)</th>\n",
       "      <th>Duration</th>\n",
       "      <th>Average Pace</th>\n",
       "      <th>Average Speed (km/h)</th>\n",
       "      <th>Calories Burned</th>\n",
       "      <th>Climb (m)</th>\n",
       "      <th>Average Heart Rate (bpm)</th>\n",
       "      <th>GPX File</th>\n",
       "    </tr>\n",
       "    <tr>\n",
       "      <th>Date</th>\n",
       "      <th></th>\n",
       "      <th></th>\n",
       "      <th></th>\n",
       "      <th></th>\n",
       "      <th></th>\n",
       "      <th></th>\n",
       "      <th></th>\n",
       "      <th></th>\n",
       "      <th></th>\n",
       "      <th></th>\n",
       "    </tr>\n",
       "  </thead>\n",
       "  <tbody>\n",
       "    <tr>\n",
       "      <th>2018-11-11 14:05:12</th>\n",
       "      <td>c9627fed-14ac-47a2-bed3-2a2630c63c15</td>\n",
       "      <td>Running</td>\n",
       "      <td>10.44</td>\n",
       "      <td>58:40</td>\n",
       "      <td>5:37</td>\n",
       "      <td>10.68</td>\n",
       "      <td>774.0</td>\n",
       "      <td>130</td>\n",
       "      <td>159.0</td>\n",
       "      <td>2018-11-11-140512.gpx</td>\n",
       "    </tr>\n",
       "    <tr>\n",
       "      <th>2018-11-09 15:02:35</th>\n",
       "      <td>be65818d-a801-4847-a43b-2acdf4dc70e7</td>\n",
       "      <td>Running</td>\n",
       "      <td>12.84</td>\n",
       "      <td>1:14:12</td>\n",
       "      <td>5:47</td>\n",
       "      <td>10.39</td>\n",
       "      <td>954.0</td>\n",
       "      <td>168</td>\n",
       "      <td>159.0</td>\n",
       "      <td>2018-11-09-150235.gpx</td>\n",
       "    </tr>\n",
       "    <tr>\n",
       "      <th>2018-11-04 16:05:00</th>\n",
       "      <td>c09b2f92-f855-497c-b624-c196b3ef036c</td>\n",
       "      <td>Running</td>\n",
       "      <td>13.01</td>\n",
       "      <td>1:15:16</td>\n",
       "      <td>5:47</td>\n",
       "      <td>10.37</td>\n",
       "      <td>967.0</td>\n",
       "      <td>171</td>\n",
       "      <td>155.0</td>\n",
       "      <td>2018-11-04-160500.gpx</td>\n",
       "    </tr>\n",
       "    <tr>\n",
       "      <th>2018-11-01 14:03:58</th>\n",
       "      <td>bc9b612d-3499-43ff-b82a-9b17b71b8a36</td>\n",
       "      <td>Running</td>\n",
       "      <td>12.98</td>\n",
       "      <td>1:14:25</td>\n",
       "      <td>5:44</td>\n",
       "      <td>10.47</td>\n",
       "      <td>960.0</td>\n",
       "      <td>169</td>\n",
       "      <td>158.0</td>\n",
       "      <td>2018-11-01-140358.gpx</td>\n",
       "    </tr>\n",
       "    <tr>\n",
       "      <th>2018-10-27 17:01:36</th>\n",
       "      <td>972567b2-1b0e-437c-9e82-fef8078d6438</td>\n",
       "      <td>Running</td>\n",
       "      <td>13.02</td>\n",
       "      <td>1:12:50</td>\n",
       "      <td>5:36</td>\n",
       "      <td>10.73</td>\n",
       "      <td>967.0</td>\n",
       "      <td>170</td>\n",
       "      <td>154.0</td>\n",
       "      <td>2018-10-27-170136.gpx</td>\n",
       "    </tr>\n",
       "    <tr>\n",
       "      <th>...</th>\n",
       "      <td>...</td>\n",
       "      <td>...</td>\n",
       "      <td>...</td>\n",
       "      <td>...</td>\n",
       "      <td>...</td>\n",
       "      <td>...</td>\n",
       "      <td>...</td>\n",
       "      <td>...</td>\n",
       "      <td>...</td>\n",
       "      <td>...</td>\n",
       "    </tr>\n",
       "    <tr>\n",
       "      <th>2012-09-08 08:35:02</th>\n",
       "      <td>730f5507-59cc-43e6-b696-387f0946c57e</td>\n",
       "      <td>Running</td>\n",
       "      <td>3.27</td>\n",
       "      <td>15:55</td>\n",
       "      <td>4:52</td>\n",
       "      <td>12.32</td>\n",
       "      <td>231.0</td>\n",
       "      <td>15</td>\n",
       "      <td>NaN</td>\n",
       "      <td>2012-09-08-083502.gpx</td>\n",
       "    </tr>\n",
       "    <tr>\n",
       "      <th>2012-09-04 19:12:17</th>\n",
       "      <td>9a6868f1-a41c-435e-9775-d7a803aa61ad</td>\n",
       "      <td>Running</td>\n",
       "      <td>6.26</td>\n",
       "      <td>32:35</td>\n",
       "      <td>5:12</td>\n",
       "      <td>11.53</td>\n",
       "      <td>455.0</td>\n",
       "      <td>34</td>\n",
       "      <td>NaN</td>\n",
       "      <td>2012-09-04-191217.gpx</td>\n",
       "    </tr>\n",
       "    <tr>\n",
       "      <th>2012-09-02 08:41:31</th>\n",
       "      <td>4a9e2e1b-3a98-4630-8a89-3632aea5559a</td>\n",
       "      <td>Running</td>\n",
       "      <td>3.14</td>\n",
       "      <td>16:16</td>\n",
       "      <td>5:11</td>\n",
       "      <td>11.56</td>\n",
       "      <td>230.0</td>\n",
       "      <td>18</td>\n",
       "      <td>NaN</td>\n",
       "      <td>2012-09-02-084131.gpx</td>\n",
       "    </tr>\n",
       "    <tr>\n",
       "      <th>2012-08-24 08:13:12</th>\n",
       "      <td>f790bdb2-b921-4018-bd39-d59d870c5847</td>\n",
       "      <td>Running</td>\n",
       "      <td>3.15</td>\n",
       "      <td>16:00</td>\n",
       "      <td>5:05</td>\n",
       "      <td>11.82</td>\n",
       "      <td>2288868.0</td>\n",
       "      <td>17</td>\n",
       "      <td>NaN</td>\n",
       "      <td>2012-08-24-081312.gpx</td>\n",
       "    </tr>\n",
       "    <tr>\n",
       "      <th>2012-08-22 18:53:54</th>\n",
       "      <td>706d4d6b-767d-40aa-81c9-e5e85a102051</td>\n",
       "      <td>Running</td>\n",
       "      <td>5.69</td>\n",
       "      <td>31:08</td>\n",
       "      <td>5:29</td>\n",
       "      <td>10.95</td>\n",
       "      <td>4072685.0</td>\n",
       "      <td>32</td>\n",
       "      <td>NaN</td>\n",
       "      <td>2012-08-22-185354.gpx</td>\n",
       "    </tr>\n",
       "  </tbody>\n",
       "</table>\n",
       "<p>459 rows × 10 columns</p>\n",
       "</div>"
      ],
      "text/plain": [
       "                                              Activity Id     Type  \\\n",
       "Date                                                                 \n",
       "2018-11-11 14:05:12  c9627fed-14ac-47a2-bed3-2a2630c63c15  Running   \n",
       "2018-11-09 15:02:35  be65818d-a801-4847-a43b-2acdf4dc70e7  Running   \n",
       "2018-11-04 16:05:00  c09b2f92-f855-497c-b624-c196b3ef036c  Running   \n",
       "2018-11-01 14:03:58  bc9b612d-3499-43ff-b82a-9b17b71b8a36  Running   \n",
       "2018-10-27 17:01:36  972567b2-1b0e-437c-9e82-fef8078d6438  Running   \n",
       "...                                                   ...      ...   \n",
       "2012-09-08 08:35:02  730f5507-59cc-43e6-b696-387f0946c57e  Running   \n",
       "2012-09-04 19:12:17  9a6868f1-a41c-435e-9775-d7a803aa61ad  Running   \n",
       "2012-09-02 08:41:31  4a9e2e1b-3a98-4630-8a89-3632aea5559a  Running   \n",
       "2012-08-24 08:13:12  f790bdb2-b921-4018-bd39-d59d870c5847  Running   \n",
       "2012-08-22 18:53:54  706d4d6b-767d-40aa-81c9-e5e85a102051  Running   \n",
       "\n",
       "                     Distance (km) Duration Average Pace  \\\n",
       "Date                                                       \n",
       "2018-11-11 14:05:12          10.44    58:40         5:37   \n",
       "2018-11-09 15:02:35          12.84  1:14:12         5:47   \n",
       "2018-11-04 16:05:00          13.01  1:15:16         5:47   \n",
       "2018-11-01 14:03:58          12.98  1:14:25         5:44   \n",
       "2018-10-27 17:01:36          13.02  1:12:50         5:36   \n",
       "...                            ...      ...          ...   \n",
       "2012-09-08 08:35:02           3.27    15:55         4:52   \n",
       "2012-09-04 19:12:17           6.26    32:35         5:12   \n",
       "2012-09-02 08:41:31           3.14    16:16         5:11   \n",
       "2012-08-24 08:13:12           3.15    16:00         5:05   \n",
       "2012-08-22 18:53:54           5.69    31:08         5:29   \n",
       "\n",
       "                     Average Speed (km/h)  Calories Burned  Climb (m)  \\\n",
       "Date                                                                    \n",
       "2018-11-11 14:05:12                 10.68            774.0        130   \n",
       "2018-11-09 15:02:35                 10.39            954.0        168   \n",
       "2018-11-04 16:05:00                 10.37            967.0        171   \n",
       "2018-11-01 14:03:58                 10.47            960.0        169   \n",
       "2018-10-27 17:01:36                 10.73            967.0        170   \n",
       "...                                   ...              ...        ...   \n",
       "2012-09-08 08:35:02                 12.32            231.0         15   \n",
       "2012-09-04 19:12:17                 11.53            455.0         34   \n",
       "2012-09-02 08:41:31                 11.56            230.0         18   \n",
       "2012-08-24 08:13:12                 11.82        2288868.0         17   \n",
       "2012-08-22 18:53:54                 10.95        4072685.0         32   \n",
       "\n",
       "                     Average Heart Rate (bpm)               GPX File  \n",
       "Date                                                                  \n",
       "2018-11-11 14:05:12                     159.0  2018-11-11-140512.gpx  \n",
       "2018-11-09 15:02:35                     159.0  2018-11-09-150235.gpx  \n",
       "2018-11-04 16:05:00                     155.0  2018-11-04-160500.gpx  \n",
       "2018-11-01 14:03:58                     158.0  2018-11-01-140358.gpx  \n",
       "2018-10-27 17:01:36                     154.0  2018-10-27-170136.gpx  \n",
       "...                                       ...                    ...  \n",
       "2012-09-08 08:35:02                       NaN  2012-09-08-083502.gpx  \n",
       "2012-09-04 19:12:17                       NaN  2012-09-04-191217.gpx  \n",
       "2012-09-02 08:41:31                       NaN  2012-09-02-084131.gpx  \n",
       "2012-08-24 08:13:12                       NaN  2012-08-24-081312.gpx  \n",
       "2012-08-22 18:53:54                       NaN  2012-08-22-185354.gpx  \n",
       "\n",
       "[459 rows x 10 columns]"
      ]
     },
     "execution_count": 25,
     "metadata": {},
     "output_type": "execute_result"
    }
   ],
   "source": [
    "df_run"
   ]
  },
  {
   "cell_type": "code",
   "execution_count": 26,
   "metadata": {
    "scrolled": false
   },
   "outputs": [
    {
     "data": {
      "text/html": [
       "<div>\n",
       "<style scoped>\n",
       "    .dataframe tbody tr th:only-of-type {\n",
       "        vertical-align: middle;\n",
       "    }\n",
       "\n",
       "    .dataframe tbody tr th {\n",
       "        vertical-align: top;\n",
       "    }\n",
       "\n",
       "    .dataframe thead th {\n",
       "        text-align: right;\n",
       "    }\n",
       "</style>\n",
       "<table border=\"1\" class=\"dataframe\">\n",
       "  <thead>\n",
       "    <tr style=\"text-align: right;\">\n",
       "      <th></th>\n",
       "      <th>Activity Id</th>\n",
       "      <th>Type</th>\n",
       "      <th>Distance (km)</th>\n",
       "      <th>Duration</th>\n",
       "      <th>Average Pace</th>\n",
       "      <th>Average Speed (km/h)</th>\n",
       "      <th>Calories Burned</th>\n",
       "      <th>Climb (m)</th>\n",
       "      <th>Average Heart Rate (bpm)</th>\n",
       "      <th>GPX File</th>\n",
       "    </tr>\n",
       "    <tr>\n",
       "      <th>Date</th>\n",
       "      <th></th>\n",
       "      <th></th>\n",
       "      <th></th>\n",
       "      <th></th>\n",
       "      <th></th>\n",
       "      <th></th>\n",
       "      <th></th>\n",
       "      <th></th>\n",
       "      <th></th>\n",
       "      <th></th>\n",
       "    </tr>\n",
       "  </thead>\n",
       "  <tbody>\n",
       "    <tr>\n",
       "      <th>2018-11-11 14:05:12</th>\n",
       "      <td>c9627fed-14ac-47a2-bed3-2a2630c63c15</td>\n",
       "      <td>Running</td>\n",
       "      <td>10.44</td>\n",
       "      <td>58:40</td>\n",
       "      <td>5:37</td>\n",
       "      <td>10.68</td>\n",
       "      <td>774.0</td>\n",
       "      <td>130</td>\n",
       "      <td>159.0</td>\n",
       "      <td>2018-11-11-140512.gpx</td>\n",
       "    </tr>\n",
       "    <tr>\n",
       "      <th>2018-11-09 15:02:35</th>\n",
       "      <td>be65818d-a801-4847-a43b-2acdf4dc70e7</td>\n",
       "      <td>Running</td>\n",
       "      <td>12.84</td>\n",
       "      <td>1:14:12</td>\n",
       "      <td>5:47</td>\n",
       "      <td>10.39</td>\n",
       "      <td>954.0</td>\n",
       "      <td>168</td>\n",
       "      <td>159.0</td>\n",
       "      <td>2018-11-09-150235.gpx</td>\n",
       "    </tr>\n",
       "    <tr>\n",
       "      <th>2018-11-04 16:05:00</th>\n",
       "      <td>c09b2f92-f855-497c-b624-c196b3ef036c</td>\n",
       "      <td>Running</td>\n",
       "      <td>13.01</td>\n",
       "      <td>1:15:16</td>\n",
       "      <td>5:47</td>\n",
       "      <td>10.37</td>\n",
       "      <td>967.0</td>\n",
       "      <td>171</td>\n",
       "      <td>155.0</td>\n",
       "      <td>2018-11-04-160500.gpx</td>\n",
       "    </tr>\n",
       "    <tr>\n",
       "      <th>2018-11-01 14:03:58</th>\n",
       "      <td>bc9b612d-3499-43ff-b82a-9b17b71b8a36</td>\n",
       "      <td>Running</td>\n",
       "      <td>12.98</td>\n",
       "      <td>1:14:25</td>\n",
       "      <td>5:44</td>\n",
       "      <td>10.47</td>\n",
       "      <td>960.0</td>\n",
       "      <td>169</td>\n",
       "      <td>158.0</td>\n",
       "      <td>2018-11-01-140358.gpx</td>\n",
       "    </tr>\n",
       "    <tr>\n",
       "      <th>2018-10-27 17:01:36</th>\n",
       "      <td>972567b2-1b0e-437c-9e82-fef8078d6438</td>\n",
       "      <td>Running</td>\n",
       "      <td>13.02</td>\n",
       "      <td>1:12:50</td>\n",
       "      <td>5:36</td>\n",
       "      <td>10.73</td>\n",
       "      <td>967.0</td>\n",
       "      <td>170</td>\n",
       "      <td>154.0</td>\n",
       "      <td>2018-10-27-170136.gpx</td>\n",
       "    </tr>\n",
       "  </tbody>\n",
       "</table>\n",
       "</div>"
      ],
      "text/plain": [
       "                                              Activity Id     Type  \\\n",
       "Date                                                                 \n",
       "2018-11-11 14:05:12  c9627fed-14ac-47a2-bed3-2a2630c63c15  Running   \n",
       "2018-11-09 15:02:35  be65818d-a801-4847-a43b-2acdf4dc70e7  Running   \n",
       "2018-11-04 16:05:00  c09b2f92-f855-497c-b624-c196b3ef036c  Running   \n",
       "2018-11-01 14:03:58  bc9b612d-3499-43ff-b82a-9b17b71b8a36  Running   \n",
       "2018-10-27 17:01:36  972567b2-1b0e-437c-9e82-fef8078d6438  Running   \n",
       "\n",
       "                     Distance (km) Duration Average Pace  \\\n",
       "Date                                                       \n",
       "2018-11-11 14:05:12          10.44    58:40         5:37   \n",
       "2018-11-09 15:02:35          12.84  1:14:12         5:47   \n",
       "2018-11-04 16:05:00          13.01  1:15:16         5:47   \n",
       "2018-11-01 14:03:58          12.98  1:14:25         5:44   \n",
       "2018-10-27 17:01:36          13.02  1:12:50         5:36   \n",
       "\n",
       "                     Average Speed (km/h)  Calories Burned  Climb (m)  \\\n",
       "Date                                                                    \n",
       "2018-11-11 14:05:12                 10.68            774.0        130   \n",
       "2018-11-09 15:02:35                 10.39            954.0        168   \n",
       "2018-11-04 16:05:00                 10.37            967.0        171   \n",
       "2018-11-01 14:03:58                 10.47            960.0        169   \n",
       "2018-10-27 17:01:36                 10.73            967.0        170   \n",
       "\n",
       "                     Average Heart Rate (bpm)               GPX File  \n",
       "Date                                                                  \n",
       "2018-11-11 14:05:12                     159.0  2018-11-11-140512.gpx  \n",
       "2018-11-09 15:02:35                     159.0  2018-11-09-150235.gpx  \n",
       "2018-11-04 16:05:00                     155.0  2018-11-04-160500.gpx  \n",
       "2018-11-01 14:03:58                     158.0  2018-11-01-140358.gpx  \n",
       "2018-10-27 17:01:36                     154.0  2018-10-27-170136.gpx  "
      ]
     },
     "execution_count": 26,
     "metadata": {},
     "output_type": "execute_result"
    }
   ],
   "source": [
    "df_run_2013_2018 = df_run[pd.DatetimeIndex(df_run.index).year >= 2013]\n",
    "df_run_2013_2018.head()"
   ]
  },
  {
   "cell_type": "code",
   "execution_count": 27,
   "metadata": {},
   "outputs": [
    {
     "data": {
      "image/png": "[encoded data removed]",
      "text/plain": [
       "<Figure size 1296x432 with 4 Axes>"
      ]
     },
     "metadata": {},
     "output_type": "display_data"
    }
   ],
   "source": [
    "fig, ((ax1,ax2),(ax3,ax4)) = plt.subplots(2,2)\n",
    "ax1.plot(df_run_2013_2018[\"Distance (km)\"].rolling(15).mean(), color = \"#f6fa19\")\n",
    "ax2.plot(df_run_2013_2018[\"Average Speed (km/h)\"].rolling(15).mean(), color = \"#64ed15\")\n",
    "ax3.plot(df_run_2013_2018[\"Calories Burned\"].rolling(5).mean(), color = \"#0ff7ff\")\n",
    "ax4.plot(df_run_2013_2018[\"Climb (m)\"].rolling(15).mean(), color = \"#220ff7\")\n",
    "\n",
    "ax1.set_title(\"Distance\")\n",
    "ax2.set_title(\"Average Speed\")\n",
    "ax3.set_title(\"Calories Burned\")\n",
    "ax4.set_title(\"Climb\")\n",
    "plt.show()"
   ]
  },
  {
   "cell_type": "markdown",
   "metadata": {},
   "source": [
    "# Task 5"
   ]
  },
  {
   "cell_type": "code",
   "execution_count": 28,
   "metadata": {},
   "outputs": [
    {
     "data": {
      "text/html": [
       "<div>\n",
       "<style scoped>\n",
       "    .dataframe tbody tr th:only-of-type {\n",
       "        vertical-align: middle;\n",
       "    }\n",
       "\n",
       "    .dataframe tbody tr th {\n",
       "        vertical-align: top;\n",
       "    }\n",
       "\n",
       "    .dataframe thead th {\n",
       "        text-align: right;\n",
       "    }\n",
       "</style>\n",
       "<table border=\"1\" class=\"dataframe\">\n",
       "  <thead>\n",
       "    <tr style=\"text-align: right;\">\n",
       "      <th></th>\n",
       "      <th>Activity Id</th>\n",
       "      <th>Type</th>\n",
       "      <th>Distance (km)</th>\n",
       "      <th>Duration</th>\n",
       "      <th>Average Pace</th>\n",
       "      <th>Average Speed (km/h)</th>\n",
       "      <th>Calories Burned</th>\n",
       "      <th>Climb (m)</th>\n",
       "      <th>Average Heart Rate (bpm)</th>\n",
       "      <th>GPX File</th>\n",
       "    </tr>\n",
       "    <tr>\n",
       "      <th>Date</th>\n",
       "      <th></th>\n",
       "      <th></th>\n",
       "      <th></th>\n",
       "      <th></th>\n",
       "      <th></th>\n",
       "      <th></th>\n",
       "      <th></th>\n",
       "      <th></th>\n",
       "      <th></th>\n",
       "      <th></th>\n",
       "    </tr>\n",
       "  </thead>\n",
       "  <tbody>\n",
       "    <tr>\n",
       "      <th>2018-11-11 14:05:12</th>\n",
       "      <td>c9627fed-14ac-47a2-bed3-2a2630c63c15</td>\n",
       "      <td>Running</td>\n",
       "      <td>10.44</td>\n",
       "      <td>58:40</td>\n",
       "      <td>5:37</td>\n",
       "      <td>10.68</td>\n",
       "      <td>774.0</td>\n",
       "      <td>130</td>\n",
       "      <td>159.0</td>\n",
       "      <td>2018-11-11-140512.gpx</td>\n",
       "    </tr>\n",
       "    <tr>\n",
       "      <th>2018-11-09 15:02:35</th>\n",
       "      <td>be65818d-a801-4847-a43b-2acdf4dc70e7</td>\n",
       "      <td>Running</td>\n",
       "      <td>12.84</td>\n",
       "      <td>1:14:12</td>\n",
       "      <td>5:47</td>\n",
       "      <td>10.39</td>\n",
       "      <td>954.0</td>\n",
       "      <td>168</td>\n",
       "      <td>159.0</td>\n",
       "      <td>2018-11-09-150235.gpx</td>\n",
       "    </tr>\n",
       "    <tr>\n",
       "      <th>2018-11-04 16:05:00</th>\n",
       "      <td>c09b2f92-f855-497c-b624-c196b3ef036c</td>\n",
       "      <td>Running</td>\n",
       "      <td>13.01</td>\n",
       "      <td>1:15:16</td>\n",
       "      <td>5:47</td>\n",
       "      <td>10.37</td>\n",
       "      <td>967.0</td>\n",
       "      <td>171</td>\n",
       "      <td>155.0</td>\n",
       "      <td>2018-11-04-160500.gpx</td>\n",
       "    </tr>\n",
       "    <tr>\n",
       "      <th>2018-11-01 14:03:58</th>\n",
       "      <td>bc9b612d-3499-43ff-b82a-9b17b71b8a36</td>\n",
       "      <td>Running</td>\n",
       "      <td>12.98</td>\n",
       "      <td>1:14:25</td>\n",
       "      <td>5:44</td>\n",
       "      <td>10.47</td>\n",
       "      <td>960.0</td>\n",
       "      <td>169</td>\n",
       "      <td>158.0</td>\n",
       "      <td>2018-11-01-140358.gpx</td>\n",
       "    </tr>\n",
       "    <tr>\n",
       "      <th>2018-10-27 17:01:36</th>\n",
       "      <td>972567b2-1b0e-437c-9e82-fef8078d6438</td>\n",
       "      <td>Running</td>\n",
       "      <td>13.02</td>\n",
       "      <td>1:12:50</td>\n",
       "      <td>5:36</td>\n",
       "      <td>10.73</td>\n",
       "      <td>967.0</td>\n",
       "      <td>170</td>\n",
       "      <td>154.0</td>\n",
       "      <td>2018-10-27-170136.gpx</td>\n",
       "    </tr>\n",
       "  </tbody>\n",
       "</table>\n",
       "</div>"
      ],
      "text/plain": [
       "                                              Activity Id     Type  \\\n",
       "Date                                                                 \n",
       "2018-11-11 14:05:12  c9627fed-14ac-47a2-bed3-2a2630c63c15  Running   \n",
       "2018-11-09 15:02:35  be65818d-a801-4847-a43b-2acdf4dc70e7  Running   \n",
       "2018-11-04 16:05:00  c09b2f92-f855-497c-b624-c196b3ef036c  Running   \n",
       "2018-11-01 14:03:58  bc9b612d-3499-43ff-b82a-9b17b71b8a36  Running   \n",
       "2018-10-27 17:01:36  972567b2-1b0e-437c-9e82-fef8078d6438  Running   \n",
       "\n",
       "                     Distance (km) Duration Average Pace  \\\n",
       "Date                                                       \n",
       "2018-11-11 14:05:12          10.44    58:40         5:37   \n",
       "2018-11-09 15:02:35          12.84  1:14:12         5:47   \n",
       "2018-11-04 16:05:00          13.01  1:15:16         5:47   \n",
       "2018-11-01 14:03:58          12.98  1:14:25         5:44   \n",
       "2018-10-27 17:01:36          13.02  1:12:50         5:36   \n",
       "\n",
       "                     Average Speed (km/h)  Calories Burned  Climb (m)  \\\n",
       "Date                                                                    \n",
       "2018-11-11 14:05:12                 10.68            774.0        130   \n",
       "2018-11-09 15:02:35                 10.39            954.0        168   \n",
       "2018-11-04 16:05:00                 10.37            967.0        171   \n",
       "2018-11-01 14:03:58                 10.47            960.0        169   \n",
       "2018-10-27 17:01:36                 10.73            967.0        170   \n",
       "\n",
       "                     Average Heart Rate (bpm)               GPX File  \n",
       "Date                                                                  \n",
       "2018-11-11 14:05:12                     159.0  2018-11-11-140512.gpx  \n",
       "2018-11-09 15:02:35                     159.0  2018-11-09-150235.gpx  \n",
       "2018-11-04 16:05:00                     155.0  2018-11-04-160500.gpx  \n",
       "2018-11-01 14:03:58                     158.0  2018-11-01-140358.gpx  \n",
       "2018-10-27 17:01:36                     154.0  2018-10-27-170136.gpx  "
      ]
     },
     "execution_count": 28,
     "metadata": {},
     "output_type": "execute_result"
    }
   ],
   "source": [
    "df_run_2015_2018 = df_run[pd.DatetimeIndex(df_run.index).year >= 2015]\n",
    "df_run_2015_2018.head()"
   ]
  },
  {
   "cell_type": "code",
   "execution_count": 29,
   "metadata": {},
   "outputs": [
    {
     "data": {
      "text/html": [
       "<div>\n",
       "<style scoped>\n",
       "    .dataframe tbody tr th:only-of-type {\n",
       "        vertical-align: middle;\n",
       "    }\n",
       "\n",
       "    .dataframe tbody tr th {\n",
       "        vertical-align: top;\n",
       "    }\n",
       "\n",
       "    .dataframe thead th {\n",
       "        text-align: right;\n",
       "    }\n",
       "</style>\n",
       "<table border=\"1\" class=\"dataframe\">\n",
       "  <thead>\n",
       "    <tr style=\"text-align: right;\">\n",
       "      <th></th>\n",
       "      <th>Distance (km)</th>\n",
       "      <th>Average Speed (km/h)</th>\n",
       "      <th>Calories Burned</th>\n",
       "      <th>Climb (m)</th>\n",
       "      <th>Average Heart Rate (bpm)</th>\n",
       "    </tr>\n",
       "    <tr>\n",
       "      <th>Date</th>\n",
       "      <th></th>\n",
       "      <th></th>\n",
       "      <th></th>\n",
       "      <th></th>\n",
       "      <th></th>\n",
       "    </tr>\n",
       "  </thead>\n",
       "  <tbody>\n",
       "    <tr>\n",
       "      <th>2015-12-31</th>\n",
       "      <td>13.602805</td>\n",
       "      <td>10.998902</td>\n",
       "      <td>932.906138</td>\n",
       "      <td>160.170732</td>\n",
       "      <td>143.231884</td>\n",
       "    </tr>\n",
       "    <tr>\n",
       "      <th>2016-12-31</th>\n",
       "      <td>11.411667</td>\n",
       "      <td>10.837778</td>\n",
       "      <td>796.152777</td>\n",
       "      <td>133.194444</td>\n",
       "      <td>143.301587</td>\n",
       "    </tr>\n",
       "    <tr>\n",
       "      <th>2017-12-31</th>\n",
       "      <td>12.935176</td>\n",
       "      <td>10.959059</td>\n",
       "      <td>914.164706</td>\n",
       "      <td>169.376471</td>\n",
       "      <td>145.277108</td>\n",
       "    </tr>\n",
       "    <tr>\n",
       "      <th>2018-12-31</th>\n",
       "      <td>13.339063</td>\n",
       "      <td>10.777969</td>\n",
       "      <td>952.359375</td>\n",
       "      <td>191.218750</td>\n",
       "      <td>148.258065</td>\n",
       "    </tr>\n",
       "  </tbody>\n",
       "</table>\n",
       "</div>"
      ],
      "text/plain": [
       "            Distance (km)  Average Speed (km/h)  Calories Burned   Climb (m)  \\\n",
       "Date                                                                           \n",
       "2015-12-31      13.602805             10.998902       932.906138  160.170732   \n",
       "2016-12-31      11.411667             10.837778       796.152777  133.194444   \n",
       "2017-12-31      12.935176             10.959059       914.164706  169.376471   \n",
       "2018-12-31      13.339063             10.777969       952.359375  191.218750   \n",
       "\n",
       "            Average Heart Rate (bpm)  \n",
       "Date                                  \n",
       "2015-12-31                143.231884  \n",
       "2016-12-31                143.301587  \n",
       "2017-12-31                145.277108  \n",
       "2018-12-31                148.258065  "
      ]
     },
     "execution_count": 29,
     "metadata": {},
     "output_type": "execute_result"
    }
   ],
   "source": [
    "df_run_2015_2018.resample('A').mean() "
   ]
  },
  {
   "cell_type": "code",
   "execution_count": 30,
   "metadata": {},
   "outputs": [
    {
     "data": {
      "text/plain": [
       "Distance (km)                12.518176\n",
       "Average Speed (km/h)         10.835473\n",
       "Calories Burned             877.861969\n",
       "Climb (m)                   158.325444\n",
       "Average Heart Rate (bpm)    144.925000\n",
       "dtype: float64"
      ]
     },
     "execution_count": 30,
     "metadata": {},
     "output_type": "execute_result"
    }
   ],
   "source": [
    "df_run_2015_2018.resample('W').mean().mean()"
   ]
  },
  {
   "cell_type": "code",
   "execution_count": 31,
   "metadata": {},
   "outputs": [
    {
     "data": {
      "text/plain": [
       "1.5"
      ]
     },
     "execution_count": 31,
     "metadata": {},
     "output_type": "execute_result"
    }
   ],
   "source": [
    "weekly_counts_average = df_run_2015_2018[\"Distance (km)\"].resample('W').count().mean()\n",
    "weekly_counts_average"
   ]
  },
  {
   "cell_type": "markdown",
   "metadata": {},
   "source": [
    "# Task 6"
   ]
  },
  {
   "cell_type": "code",
   "execution_count": 32,
   "metadata": {},
   "outputs": [],
   "source": [
    "runs_distance = df_run_2015_2018[\"Distance (km)\"]\n",
    "runs_hr = df_run_2015_2018[\"Average Heart Rate (bpm)\"]"
   ]
  },
  {
   "cell_type": "code",
   "execution_count": 33,
   "metadata": {},
   "outputs": [
    {
     "data": {
      "text/plain": [
       "<matplotlib.lines.Line2D at 0x2ca92c1c9c8>"
      ]
     },
     "execution_count": 33,
     "metadata": {},
     "output_type": "execute_result"
    },
    {
     "data": {
      "image/png": "[encoded data removed]",
      "text/plain": [
       "<Figure size 864x576 with 2 Axes>"
      ]
     },
     "metadata": {},
     "output_type": "display_data"
    }
   ],
   "source": [
    "fig, (ax1,ax2) = plt.subplots(2, sharex = True, figsize = (12,8))\n",
    "ax1.plot(runs_distance, color = \"#fcfc14\")\n",
    "ax2.plot(runs_hr, color = \"#37f516\")\n",
    "ax2.axhline(runs_hr.mean(), color = \"blue\", lw = 1, ls = \"-.\")"
   ]
  },
  {
   "cell_type": "markdown",
   "metadata": {},
   "source": [
    "# Task 7"
   ]
  },
  {
   "cell_type": "code",
   "execution_count": 34,
   "metadata": {},
   "outputs": [],
   "source": [
    "df_run_2013_2018 = df_run[pd.DatetimeIndex(df_run.index).year >= 2013]"
   ]
  },
  {
   "cell_type": "code",
   "execution_count": 35,
   "metadata": {},
   "outputs": [
    {
     "data": {
      "text/plain": [
       "Date\n",
       "2013-12-31     498.25\n",
       "2014-12-31     755.76\n",
       "2015-12-31    1115.43\n",
       "2016-12-31     821.64\n",
       "2017-12-31    1099.49\n",
       "2018-12-31     853.70\n",
       "Freq: A-DEC, Name: Distance (km), dtype: float64"
      ]
     },
     "execution_count": 35,
     "metadata": {},
     "output_type": "execute_result"
    }
   ],
   "source": [
    "df_run_dist_annual = df_run_2013_2018[\"Distance (km)\"].resample(\"A\").sum()\n",
    "df_run_dist_annual"
   ]
  },
  {
   "cell_type": "code",
   "execution_count": 36,
   "metadata": {},
   "outputs": [
    {
     "data": {
      "image/png": "[encoded data removed]",
      "text/plain": [
       "<Figure size 1296x432 with 1 Axes>"
      ]
     },
     "metadata": {},
     "output_type": "display_data"
    },
    {
     "data": {
      "text/plain": [
       "<Figure size 576x360 with 0 Axes>"
      ]
     },
     "metadata": {},
     "output_type": "display_data"
    }
   ],
   "source": [
    "fig = plt.figure()\n",
    "ax = plt.axes()\n",
    "ax.plot(df_run_dist_annual)\n",
    "plt.figure(figsize = (8,5))\n",
    "ax.axhspan(0, 800, color = \"red\", alpha = 0.2)\n",
    "plt.show()"
   ]
  },
  {
   "cell_type": "markdown",
   "metadata": {},
   "source": [
    "# Task 8"
   ]
  },
  {
   "cell_type": "code",
   "execution_count": 37,
   "metadata": {},
   "outputs": [],
   "source": [
    "import statsmodels.api as sm"
   ]
  },
  {
   "cell_type": "code",
   "execution_count": 38,
   "metadata": {},
   "outputs": [
    {
     "data": {
      "text/plain": [
       "Activity Id                   0\n",
       "Type                          0\n",
       "Distance (km)                 0\n",
       "Duration                      0\n",
       "Average Pace                  0\n",
       "Average Speed (km/h)          0\n",
       "Calories Burned               0\n",
       "Climb (m)                     0\n",
       "Average Heart Rate (bpm)    161\n",
       "GPX File                      4\n",
       "dtype: int64"
      ]
     },
     "execution_count": 38,
     "metadata": {},
     "output_type": "execute_result"
    }
   ],
   "source": [
    "df_run_2013_2018 = df_run[pd.DatetimeIndex(df_run.index).year >= 2013]\n",
    "df_run_2013_2018.bfill()\n",
    "df_run_2013_2018.isnull().sum()"
   ]
  },
  {
   "cell_type": "code",
   "execution_count": 39,
   "metadata": {},
   "outputs": [],
   "source": [
    "df_run_dist_wkly = df_run_2013_2018[\"Distance (km)\"].resample(\"W\").sum()"
   ]
  },
  {
   "cell_type": "code",
   "execution_count": 40,
   "metadata": {},
   "outputs": [
    {
     "data": {
      "image/png": "[encoded data removed]",
      "text/plain": [
       "<Figure size 1296x432 with 1 Axes>"
      ]
     },
     "metadata": {},
     "output_type": "display_data"
    },
    {
     "data": {
      "text/plain": [
       "<Figure size 864x360 with 0 Axes>"
      ]
     },
     "metadata": {},
     "output_type": "display_data"
    }
   ],
   "source": [
    "plt.plot(df_run_dist_wkly)\n",
    "plt.figure(figsize = (12,5))\n",
    "plt.show()"
   ]
  },
  {
   "cell_type": "markdown",
   "metadata": {},
   "source": [
    "# Task 9"
   ]
  },
  {
   "cell_type": "code",
   "execution_count": 41,
   "metadata": {},
   "outputs": [],
   "source": [
    "df_run_2015_2018 = df_run[pd.DatetimeIndex(df_run.index).year >= 2015]\n",
    "df_run_hr_all = df_run_2015_2018[\"Average Heart Rate (bpm)\"]"
   ]
  },
  {
   "cell_type": "code",
   "execution_count": 42,
   "metadata": {},
   "outputs": [
    {
     "data": {
      "image/png": "[encoded data removed]",
      "text/plain": [
       "<Figure size 576x360 with 1 Axes>"
      ]
     },
     "metadata": {},
     "output_type": "display_data"
    }
   ],
   "source": [
    "fig,ax = plt.subplots(figsize = (8,5))\n",
    "ax.plot(df_run_hr_all)\n",
    "ax.set_xticklabels(labels = \"zone_names\", rotation = -30, ha = \"left\")\n",
    "plt.show()"
   ]
  },
  {
   "cell_type": "markdown",
   "metadata": {},
   "source": [
    "# Task 10"
   ]
  },
  {
   "cell_type": "code",
   "execution_count": 43,
   "metadata": {},
   "outputs": [],
   "source": [
    "df_run_walk_cycle = df_run.append(df_walk).append(df_cycle)"
   ]
  },
  {
   "cell_type": "code",
   "execution_count": 44,
   "metadata": {},
   "outputs": [],
   "source": [
    "df_totals = df_run_walk_cycle.groupby(\"Type\")[\"Climb (m)\"].sum()"
   ]
  },
  {
   "cell_type": "code",
   "execution_count": 45,
   "metadata": {},
   "outputs": [
    {
     "data": {
      "text/plain": [
       "Type\n",
       "Cycling     6976\n",
       "Running    57278\n",
       "Walking      349\n",
       "Name: Climb (m), dtype: int64"
      ]
     },
     "execution_count": 45,
     "metadata": {},
     "output_type": "execute_result"
    }
   ],
   "source": [
    "df_totals"
   ]
  },
  {
   "cell_type": "markdown",
   "metadata": {},
   "source": [
    "# Task 11"
   ]
  },
  {
   "cell_type": "code",
   "execution_count": 46,
   "metadata": {},
   "outputs": [
    {
     "data": {
      "text/plain": [
       "33.09724349157733"
      ]
     },
     "execution_count": 46,
     "metadata": {},
     "output_type": "execute_result"
    }
   ],
   "source": [
    "rate = 5224/7\n",
    "shoes = 24700/rate\n",
    "shoes"
   ]
  },
  {
   "cell_type": "code",
   "execution_count": null,
   "metadata": {},
   "outputs": [],
   "source": []
  }
 ],
 "metadata": {
  "kernelspec": {
   "display_name": "Python 3",
   "language": "python",
   "name": "python3"
  },
  "language_info": {
   "codemirror_mode": {
    "name": "ipython",
    "version": 3
   },
   "file_extension": ".py",
   "mimetype": "text/x-python",
   "name": "python",
   "nbconvert_exporter": "python",
   "pygments_lexer": "ipython3",
   "version": "3.7.6"
  }
 },
 "nbformat": 4,
 "nbformat_minor": 4
}
